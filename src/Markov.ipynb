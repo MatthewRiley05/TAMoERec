{
 "cells": [
  {
   "cell_type": "code",
   "execution_count": 1,
   "id": "acab4b21",
   "metadata": {},
   "outputs": [],
   "source": [
    "import numpy as np\n",
    "import math\n",
    "from collections import defaultdict"
   ]
  },
  {
   "cell_type": "code",
   "execution_count": 2,
   "id": "6a048cbe",
   "metadata": {},
   "outputs": [],
   "source": [
    "def load_sequences(filename):\n",
    "    with open(filename, 'r') as f:\n",
    "        raw_data = [list(map(int, line.strip().split())) for line in f]\n",
    "    sequences = [row[1:] for row in raw_data]  # ignore user_id\n",
    "    return sequences"
   ]
  },
  {
   "cell_type": "code",
   "execution_count": 3,
   "id": "87f198be",
   "metadata": {},
   "outputs": [],
   "source": [
    "def split_sequences_leave_two_out(sequences):\n",
    "    train_seqs, val_items, test_items = [], [], []\n",
    "    for seq in sequences:\n",
    "        if len(seq) < 3:\n",
    "            continue  # Need at least 3 items cv\n",
    "        train_seqs.append(seq[:-2])      # all except last two\n",
    "        val_items.append(seq[-2])        # second last\n",
    "        test_items.append(seq[-1])       # last\n",
    "    return train_seqs, val_items, test_items"
   ]
  },
  {
   "cell_type": "code",
   "execution_count": 4,
   "id": "0357d810",
   "metadata": {},
   "outputs": [],
   "source": [
    "def build_transition_matrix(sequences):\n",
    "    matrix = defaultdict(lambda: defaultdict(int))\n",
    "    for seq in sequences:\n",
    "        for i in range(len(seq) - 1):\n",
    "            curr_item = seq[i]\n",
    "            next_item = seq[i + 1]\n",
    "            matrix[curr_item][next_item] += 1\n",
    "    return matrix"
   ]
  },
  {
   "cell_type": "code",
   "execution_count": 5,
   "id": "68edc064",
   "metadata": {},
   "outputs": [],
   "source": [
    "def predict_markov_chain(input_seq, transition_matrix):\n",
    "    last_item = input_seq[-1]\n",
    "    if last_item not in transition_matrix:\n",
    "        return []\n",
    "    next_items = transition_matrix[last_item]\n",
    "    sorted_items = sorted(next_items.items(), key=lambda x: x[1], reverse=True)\n",
    "    return [item for item, _ in sorted_items]"
   ]
  },
  {
   "cell_type": "code",
   "execution_count": 6,
   "id": "b159c94c",
   "metadata": {},
   "outputs": [],
   "source": [
    "def hit_at_k(predictions, true_item, k):\n",
    "    return 1 if true_item in predictions[:k] else 0\n",
    "\n",
    "def ndcg_at_k(predictions, true_item, k):\n",
    "    if true_item in predictions[:k]:\n",
    "        idx = predictions[:k].index(true_item)\n",
    "        return 1 / math.log2(idx + 2)  # +2 because index starts at 0\n",
    "    return 0"
   ]
  },
  {
   "cell_type": "code",
   "execution_count": 7,
   "id": "39818614",
   "metadata": {},
   "outputs": [],
   "source": [
    "def evaluate_markov_chain_leave_two_out(train_seqs, val_items, test_items, transition_matrix):\n",
    "    hit10, hit20, ndcg10, ndcg20 = [], [], [], []\n",
    "\n",
    "    for train_seq, test_item in zip(train_seqs, test_items):\n",
    "        if len(train_seq) < 1:\n",
    "            continue\n",
    "        predictions = predict_markov_chain(train_seq, transition_matrix)\n",
    "\n",
    "        hit10.append(hit_at_k(predictions, test_item, k=10))\n",
    "        hit20.append(hit_at_k(predictions, test_item, k=20))\n",
    "        ndcg10.append(ndcg_at_k(predictions, test_item, k=10))\n",
    "        ndcg20.append(ndcg_at_k(predictions, test_item, k=20))\n",
    "\n",
    "    return {\n",
    "        \"Hit@10\": np.mean(hit10),\n",
    "        \"Hit@20\": np.mean(hit20),\n",
    "        \"NDCG@10\": np.mean(ndcg10),\n",
    "        \"NDCG@20\": np.mean(ndcg20),\n",
    "    }"
   ]
  },
  {
   "cell_type": "code",
   "execution_count": 10,
   "id": "08cb520f",
   "metadata": {},
   "outputs": [
    {
     "name": "stdout",
     "output_type": "stream",
     "text": [
      "Evaluating Beauty_item_org_rank.txt\n",
      "Hit@10: 0.0312\n",
      "Hit@20: 0.0409\n",
      "NDCG@10: 0.0176\n",
      "NDCG@20: 0.0201\n"
     ]
    }
   ],
   "source": [
    "if __name__ == \"__main__\":\n",
    "    sequences = load_sequences(\"Beauty_item_org_rank.txt\")\n",
    "    train_sequences, val_items, test_items = split_sequences_leave_two_out(sequences)\n",
    "    transition_matrix = build_transition_matrix(train_sequences)\n",
    "\n",
    "    print(\"Evaluating Beauty_item_org_rank.txt\")\n",
    "    results = evaluate_markov_chain_leave_two_out(train_sequences, val_items, test_items, transition_matrix)\n",
    "\n",
    "    for metric, score in results.items():\n",
    "        print(f\"{metric}: {score:.4f}\")"
   ]
  },
  {
   "cell_type": "code",
   "execution_count": 12,
   "id": "fc21e406",
   "metadata": {},
   "outputs": [
    {
     "name": "stdout",
     "output_type": "stream",
     "text": [
      "Evaluating Beauty_item_var_rank.txt\n",
      "Hit@10: 0.0322\n",
      "Hit@20: 0.0428\n",
      "NDCG@10: 0.0183\n",
      "NDCG@20: 0.0210\n"
     ]
    }
   ],
   "source": [
    "if __name__ == \"__main__\":\n",
    "    sequences = load_sequences(\"Beauty_item_var_rank.txt\")\n",
    "    train_sequences, val_items, test_items = split_sequences_leave_two_out(sequences)\n",
    "    transition_matrix = build_transition_matrix(train_sequences)\n",
    "\n",
    "    print(\"Evaluating Beauty_item_var_rank.txt\")\n",
    "    results = evaluate_markov_chain_leave_two_out(train_sequences, val_items, test_items, transition_matrix)\n",
    "\n",
    "    for metric, score in results.items():\n",
    "        print(f\"{metric}: {score:.4f}\")"
   ]
  },
  {
   "cell_type": "code",
   "execution_count": null,
   "id": "f46836f4",
   "metadata": {},
   "outputs": [],
   "source": []
  }
 ],
 "metadata": {
  "kernelspec": {
   "display_name": "Python 3 (ipykernel)",
   "language": "python",
   "name": "python3"
  },
  "language_info": {
   "codemirror_mode": {
    "name": "ipython",
    "version": 3
   },
   "file_extension": ".py",
   "mimetype": "text/x-python",
   "name": "python",
   "nbconvert_exporter": "python",
   "pygments_lexer": "ipython3",
   "version": "3.9.12"
  }
 },
 "nbformat": 4,
 "nbformat_minor": 5
}
